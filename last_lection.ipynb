{
 "metadata": {
  "language_info": {
   "codemirror_mode": {
    "name": "ipython",
    "version": 3
   },
   "file_extension": ".py",
   "mimetype": "text/x-python",
   "name": "python",
   "nbconvert_exporter": "python",
   "pygments_lexer": "ipython3",
   "version": "3.8.3-final"
  },
  "orig_nbformat": 2,
  "kernelspec": {
   "name": "python3",
   "display_name": "Python 3"
  }
 },
 "nbformat": 4,
 "nbformat_minor": 2,
 "cells": [
  {
   "cell_type": "markdown",
   "metadata": {},
   "source": [
    "# Lektion 5 återblick"
   ]
  },
  {
   "cell_type": "markdown",
   "metadata": {},
   "source": [
    "## Datatyper"
   ]
  },
  {
   "cell_type": "code",
   "execution_count": 1,
   "metadata": {},
   "outputs": [],
   "source": [
    "a_list = [\"volvo\", \"saab\"]\n",
    "a_tuple = (59.34531, 18.02352)\n",
    "a_dict = {\"red\": \"röd\", \"blue\": \"blå\"}\n",
    "a_set = {1, 2, 3}"
   ]
  },
  {
   "cell_type": "markdown",
   "metadata": {},
   "source": [
    "### Accessing elements"
   ]
  },
  {
   "cell_type": "code",
   "execution_count": 2,
   "metadata": {
    "tags": []
   },
   "outputs": [],
   "source": [
    "list_first_value = a_list[0]\n",
    "tuple_first_value = a_tuple[0]\n",
    "dict_red_value = a_dict[\"red\"]\n",
    "set_intersection = a_set & {1}"
   ]
  },
  {
   "cell_type": "markdown",
   "metadata": {},
   "source": [
    "### Accessing elements part 2"
   ]
  },
  {
   "cell_type": "code",
   "execution_count": 3,
   "metadata": {},
   "outputs": [],
   "source": [
    "simple_list = [\"simple value 0\", \"simple value 1\"]\n",
    "first_index = simple_list[0]\n",
    "n = len(simple_list)\n",
    "copy = simple_list[0:n]\n",
    "last_element = simple_list[n-1]\n",
    "\n",
    "nested_list = [\"nested list value 0\", simple_list]\n",
    "\n",
    "first_nested_index = nested_list[1][0]\n",
    "letter_in_string = nested_list[0][0]\n",
    "letter_in_nested = nested_list[1][0][0]"
   ]
  },
  {
   "cell_type": "markdown",
   "metadata": {},
   "source": [
    "### Dictionary"
   ]
  },
  {
   "cell_type": "code",
   "execution_count": 4,
   "metadata": {
    "tags": []
   },
   "outputs": [
    {
     "output_type": "stream",
     "name": "stdout",
     "text": "{1: 'a', 2: 'b'}\nb\n"
    }
   ],
   "source": [
    "a_dict = {\"a\": 1, \"b\":2}\n",
    "dict_keys = a_dict.keys()\n",
    "dict_values = a_dict.values()\n",
    "value_as_key = {v:k for k, v in a_dict.items()}\n",
    "print(value_as_key)\n",
    "\n",
    "print(value_as_key[2])"
   ]
  },
  {
   "cell_type": "markdown",
   "metadata": {},
   "source": [
    "### Tuple"
   ]
  },
  {
   "cell_type": "code",
   "execution_count": 5,
   "metadata": {},
   "outputs": [],
   "source": [
    "a_tuple = (59.34531, 18.02352) # (x,y)\n",
    "first_element = a_tuple[0]\n",
    "n = len(a_tuple)\n",
    "last_element = a_tuple[n-1]\n",
    "copy_tuple = a_tuple[0:n]\n"
   ]
  },
  {
   "cell_type": "markdown",
   "metadata": {},
   "source": [
    "### Set"
   ]
  },
  {
   "cell_type": "code",
   "execution_count": 20,
   "metadata": {
    "tags": []
   },
   "outputs": [
    {
     "output_type": "stream",
     "name": "stdout",
     "text": "[4, 1]\n"
    }
   ],
   "source": [
    "a_set = {1}\n",
    "union_set = {1} | {2}\n",
    "intersection_set = {1,2} & {2, 3}\n",
    "difference_set = {1,2,3} - {2}\n",
    "is_subset = {1,3} <= {1, 2, 3}\n",
    "symetric_difference_set = {1, 2,3 } ^ {2, 3,4}\n",
    "\n",
    "len(symetric_difference_set)\n",
    "print(sorted(symetric_difference_set, reverse=True))"
   ]
  },
  {
   "cell_type": "markdown",
   "metadata": {},
   "source": [
    "### Builtin Containers"
   ]
  },
  {
   "cell_type": "code",
   "execution_count": 7,
   "metadata": {},
   "outputs": [
    {
     "output_type": "execute_result",
     "data": {
      "text/plain": "True"
     },
     "metadata": {},
     "execution_count": 7
    }
   ],
   "source": [
    "list_container = [{\"key\": \"value\"}, (1,2), (3), [\"a list\"]]\n",
    "dict_container = {\"key1\": [\"a list\"], \"key2\": {\"key\": \"value\"}}\n",
    "set_container = {1, \"test\"}\n",
    "tuple_container = (1, [\"2\"])\n",
    "\n",
    "import collections\n",
    "isinstance(list_container, collections.Container)\n",
    "isinstance(dict_container, collections.Container)\n",
    "isinstance(set_container, collections.Container)\n",
    "isinstance(tuple_container, collections.Container)"
   ]
  },
  {
   "cell_type": "markdown",
   "metadata": {},
   "source": [
    "### Immutable vs mutable\n",
    "\n"
   ]
  },
  {
   "cell_type": "code",
   "execution_count": 8,
   "metadata": {
    "tags": []
   },
   "outputs": [
    {
     "output_type": "stream",
     "name": "stdout",
     "text": "[[], [], []]\n[[3], [3], [3]]\n"
    }
   ],
   "source": [
    "lists = [[]] * 3\n",
    "print(lists)\n",
    "\n",
    "lists[0].append(3)\n",
    "print(lists)"
   ]
  },
  {
   "cell_type": "code",
   "execution_count": 9,
   "metadata": {
    "tags": []
   },
   "outputs": [
    {
     "output_type": "stream",
     "name": "stdout",
     "text": "['immutable']\n[['immutable', 'another value', 'extended value']]\n[['immutable', 'another value', 'extended value']]\n[['new value', 'another value', 'extended value']]\n"
    }
   ],
   "source": [
    "a_value = \"immutable\"\n",
    "a_list = [a_value]\n",
    "\n",
    "# reassign immutable string\n",
    "a_value = \"changed\"\n",
    "print(a_list)\n",
    "another_list = [a_list]\n",
    "\n",
    "# Extending inner list\n",
    "a_list += [\"another value\"]\n",
    "a_list.extend([\"extended value\"])\n",
    "print(another_list)\n",
    "\n",
    "# Reassign inner list\n",
    "a_list = [\"someting else\"]\n",
    "print(another_list)\n",
    "\n",
    "# Reassign with index\n",
    "another_list[0][0] = \"new value\"\n",
    "print(another_list)"
   ]
  },
  {
   "cell_type": "markdown",
   "metadata": {},
   "source": [
    "### Copy"
   ]
  },
  {
   "cell_type": "code",
   "execution_count": 10,
   "metadata": {
    "tags": []
   },
   "outputs": [
    {
     "output_type": "stream",
     "name": "stdout",
     "text": "[['value']]\n[['value', 'extended list']]\n[['value', 'extended list']]\n[['b_list value']]\n[['b_list value', 'slice is shallow']]\n[['b_list value', 'slice is shallow']]\n"
    }
   ],
   "source": [
    "a_list = [\"value\"]\n",
    "nested_list = [a_list]\n",
    "print(nested_list)\n",
    "\n",
    "# shallow copy\n",
    "shallow_copy_list = nested_list.copy()\n",
    "\n",
    "# mutate inner list\n",
    "a_list += [\"extended list\"]\n",
    "print(nested_list)\n",
    "print(shallow_copy_list)\n",
    "\n",
    "# reassign copy\n",
    "b_list = [\"b_list value\"]\n",
    "shallow_copy_list = [b_list]\n",
    "print(shallow_copy_list)\n",
    "\n",
    "# splice copy\n",
    "slice_copy = shallow_copy_list[:]\n",
    "b_list += [\"slice is shallow\"]\n",
    "print(slice_copy)\n",
    "\n",
    "import copy\n",
    "# deep copy\n",
    "deep_copy = copy.deepcopy(slice_copy)\n",
    "b_list += [\"deep\"]\n",
    "print(deep_copy)\n"
   ]
  },
  {
   "cell_type": "code",
   "execution_count": null,
   "metadata": {},
   "outputs": [],
   "source": []
  }
 ]
}